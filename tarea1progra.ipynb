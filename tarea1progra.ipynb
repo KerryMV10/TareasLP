{
  "nbformat": 4,
  "nbformat_minor": 0,
  "metadata": {
    "colab": {
      "provenance": []
    },
    "kernelspec": {
      "name": "python3",
      "display_name": "Python 3"
    },
    "language_info": {
      "name": "python"
    }
  },
  "cells": [
    {
      "cell_type": "markdown",
      "source": [
        "BUG\n"
      ],
      "metadata": {
        "id": "mkH8KozOytfJ"
      }
    },
    {
      "cell_type": "code",
      "execution_count": 1,
      "metadata": {
        "colab": {
          "base_uri": "https://localhost:8080/"
        },
        "id": "NP-5slLCwR4x",
        "outputId": "bfa530aa-9bed-4ec1-f623-9c329f4cfa5d"
      },
      "outputs": [
        {
          "output_type": "stream",
          "name": "stdout",
          "text": [
            "Uno, dos, tres...\n",
            "... cuatro, cinco, seis.\n"
          ]
        }
      ],
      "source": [
        "print(\"Uno, dos, tres...\")\n",
        "print(\"... cuatro, cinco, seis.\")\n"
      ]
    },
    {
      "cell_type": "markdown",
      "source": [
        "POEMA"
      ],
      "metadata": {
        "id": "B5hmCVz4y2ko"
      }
    },
    {
      "cell_type": "code",
      "source": [
        "w = \"La noche está estrellada, y tiritan, azules, los astros, a lo lejos\"\n",
        "x = \"Puedo escribir los versos más tristes esta noche.\"\n",
        "y = \"Escribir, por ejemplo:\"\n",
        "z = \"El viento de la noche gira en el cielo y canta.\"\n",
        "espacio = \" \"\n",
        "\n",
        "# Combinamos las sentencias a imprimir\n",
        "print(x)\n",
        "print(y + espacio + w)\n",
        "print(z)\n"
      ],
      "metadata": {
        "colab": {
          "base_uri": "https://localhost:8080/"
        },
        "id": "gx051IECy5LP",
        "outputId": "692cc2d4-c2f8-40bb-d0d8-45167a40878e"
      },
      "execution_count": 3,
      "outputs": [
        {
          "output_type": "stream",
          "name": "stdout",
          "text": [
            "Puedo escribir los versos más tristes esta noche.\n",
            "Escribir, por ejemplo: La noche está estrellada, y tiritan, azules, los astros, a lo lejos\n",
            "El viento de la noche gira en el cielo y canta.\n"
          ]
        }
      ]
    },
    {
      "cell_type": "markdown",
      "source": [
        "PROMEDIO"
      ],
      "metadata": {
        "id": "ymfPA0tR0HBw"
      }
    },
    {
      "cell_type": "code",
      "source": [
        "# Notas de las cuatro prácticas\n",
        "primera_practica = 16\n",
        "segunda_practica = 13\n",
        "tercera_practica = 19\n",
        "cuarta_practica = 8\n",
        "\n",
        "# Calculamos el promedio de las prácticas\n",
        "promedio_de_practicas = (primera_practica + segunda_practica + tercera_practica + cuarta_practica) / 4\n",
        "\n",
        "# importamos la biblioteca math para utilizar una función para redondear el promedio a favor nuestro\n",
        "import math\n",
        "promedio_redondeado = math.ceil(promedio_de_practicas)\n",
        "\n",
        "# Imprimimos el resultado\n",
        "print(f\"El promedio de las prácticas redondeado a nuestro favor es: {promedio_redondeado}\")\n"
      ],
      "metadata": {
        "colab": {
          "base_uri": "https://localhost:8080/"
        },
        "id": "BH4mO_Z80Ihw",
        "outputId": "57f654fd-0a48-4df7-d84c-9b9eacae131a"
      },
      "execution_count": 5,
      "outputs": [
        {
          "output_type": "stream",
          "name": "stdout",
          "text": [
            "El promedio de las prácticas redondeado a nuestro favor es: 14\n"
          ]
        }
      ]
    }
  ]
}